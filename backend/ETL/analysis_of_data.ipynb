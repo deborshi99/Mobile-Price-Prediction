{
 "cells": [
  {
   "cell_type": "code",
   "execution_count": 19,
   "metadata": {},
   "outputs": [],
   "source": [
    "import pandas as pd\n",
    "import sqlite3\n",
    "import sys, traceback\n",
    "from sklearn.impute import SimpleImputer "
   ]
  },
  {
   "cell_type": "code",
   "execution_count": 20,
   "metadata": {},
   "outputs": [],
   "source": [
    "def get_data_from_raw(db_path, table_name):\n",
    "    try:\n",
    "        conn = sqlite3.connect(db_path)\n",
    "        cursor = conn.cursor()\n",
    "        print(\"successfully connected to database\")\n",
    "            \n",
    "    except:\n",
    "        print(\"Error in connecting database!\")\n",
    "        print(\"-\"*60)\n",
    "        traceback.print_exc(file=sys.stdout)\n",
    "        print(\"-\"*60)\n",
    "    df = pd.read_sql('SELECT * FROM {}'.format(table_name), conn)\n",
    "    conn.close()\n",
    "    return df"
   ]
  },
  {
   "cell_type": "code",
   "execution_count": 21,
   "metadata": {},
   "outputs": [
    {
     "name": "stdout",
     "output_type": "stream",
     "text": [
      "successfully connected to database\n"
     ]
    }
   ],
   "source": [
    "df = get_data_from_raw(\"../database/data.db\", \"RAW\")"
   ]
  },
  {
   "cell_type": "code",
   "execution_count": 22,
   "metadata": {},
   "outputs": [
    {
     "data": {
      "text/html": [
       "<div>\n",
       "<style scoped>\n",
       "    .dataframe tbody tr th:only-of-type {\n",
       "        vertical-align: middle;\n",
       "    }\n",
       "\n",
       "    .dataframe tbody tr th {\n",
       "        vertical-align: top;\n",
       "    }\n",
       "\n",
       "    .dataframe thead th {\n",
       "        text-align: right;\n",
       "    }\n",
       "</style>\n",
       "<table border=\"1\" class=\"dataframe\">\n",
       "  <thead>\n",
       "    <tr style=\"text-align: right;\">\n",
       "      <th></th>\n",
       "      <th>unique_data</th>\n",
       "      <th>battery_power</th>\n",
       "      <th>blue</th>\n",
       "      <th>clock_speed</th>\n",
       "      <th>dual_sim</th>\n",
       "      <th>fc</th>\n",
       "      <th>four_g</th>\n",
       "      <th>int_memory</th>\n",
       "      <th>m_dep</th>\n",
       "      <th>mobile_wt</th>\n",
       "      <th>...</th>\n",
       "      <th>px_width</th>\n",
       "      <th>ram</th>\n",
       "      <th>sc_h</th>\n",
       "      <th>sc_w</th>\n",
       "      <th>talk_time</th>\n",
       "      <th>three_g</th>\n",
       "      <th>touch_screen</th>\n",
       "      <th>wifi</th>\n",
       "      <th>price_range</th>\n",
       "      <th>RawTimeStamp</th>\n",
       "    </tr>\n",
       "  </thead>\n",
       "  <tbody>\n",
       "    <tr>\n",
       "      <th>0</th>\n",
       "      <td>2549.026455</td>\n",
       "      <td>842</td>\n",
       "      <td>0</td>\n",
       "      <td>2.2</td>\n",
       "      <td>0</td>\n",
       "      <td>1</td>\n",
       "      <td>0</td>\n",
       "      <td>7</td>\n",
       "      <td>0.6</td>\n",
       "      <td>188</td>\n",
       "      <td>...</td>\n",
       "      <td>756</td>\n",
       "      <td>2549</td>\n",
       "      <td>9</td>\n",
       "      <td>7</td>\n",
       "      <td>19</td>\n",
       "      <td>0</td>\n",
       "      <td>0</td>\n",
       "      <td>1</td>\n",
       "      <td>1</td>\n",
       "      <td>2023-05-29 12:46:43</td>\n",
       "    </tr>\n",
       "    <tr>\n",
       "      <th>1</th>\n",
       "      <td>2631.455231</td>\n",
       "      <td>1021</td>\n",
       "      <td>1</td>\n",
       "      <td>0.5</td>\n",
       "      <td>1</td>\n",
       "      <td>0</td>\n",
       "      <td>1</td>\n",
       "      <td>53</td>\n",
       "      <td>0.7</td>\n",
       "      <td>136</td>\n",
       "      <td>...</td>\n",
       "      <td>1988</td>\n",
       "      <td>2631</td>\n",
       "      <td>17</td>\n",
       "      <td>3</td>\n",
       "      <td>7</td>\n",
       "      <td>1</td>\n",
       "      <td>1</td>\n",
       "      <td>0</td>\n",
       "      <td>2</td>\n",
       "      <td>2023-05-29 12:46:43</td>\n",
       "    </tr>\n",
       "    <tr>\n",
       "      <th>2</th>\n",
       "      <td>2603.736014</td>\n",
       "      <td>563</td>\n",
       "      <td>1</td>\n",
       "      <td>0.5</td>\n",
       "      <td>1</td>\n",
       "      <td>2</td>\n",
       "      <td>1</td>\n",
       "      <td>41</td>\n",
       "      <td>0.9</td>\n",
       "      <td>145</td>\n",
       "      <td>...</td>\n",
       "      <td>1716</td>\n",
       "      <td>2603</td>\n",
       "      <td>11</td>\n",
       "      <td>2</td>\n",
       "      <td>9</td>\n",
       "      <td>1</td>\n",
       "      <td>1</td>\n",
       "      <td>0</td>\n",
       "      <td>2</td>\n",
       "      <td>2023-05-29 12:46:43</td>\n",
       "    </tr>\n",
       "    <tr>\n",
       "      <th>3</th>\n",
       "      <td>2769.680851</td>\n",
       "      <td>615</td>\n",
       "      <td>1</td>\n",
       "      <td>2.5</td>\n",
       "      <td>0</td>\n",
       "      <td>0</td>\n",
       "      <td>0</td>\n",
       "      <td>10</td>\n",
       "      <td>0.8</td>\n",
       "      <td>131</td>\n",
       "      <td>...</td>\n",
       "      <td>1786</td>\n",
       "      <td>2769</td>\n",
       "      <td>16</td>\n",
       "      <td>8</td>\n",
       "      <td>11</td>\n",
       "      <td>1</td>\n",
       "      <td>0</td>\n",
       "      <td>0</td>\n",
       "      <td>2</td>\n",
       "      <td>2023-05-29 12:46:43</td>\n",
       "    </tr>\n",
       "    <tr>\n",
       "      <th>4</th>\n",
       "      <td>1411.996700</td>\n",
       "      <td>1821</td>\n",
       "      <td>1</td>\n",
       "      <td>1.2</td>\n",
       "      <td>0</td>\n",
       "      <td>13</td>\n",
       "      <td>1</td>\n",
       "      <td>44</td>\n",
       "      <td>0.6</td>\n",
       "      <td>141</td>\n",
       "      <td>...</td>\n",
       "      <td>1212</td>\n",
       "      <td>1411</td>\n",
       "      <td>8</td>\n",
       "      <td>2</td>\n",
       "      <td>15</td>\n",
       "      <td>1</td>\n",
       "      <td>1</td>\n",
       "      <td>0</td>\n",
       "      <td>1</td>\n",
       "      <td>2023-05-29 12:46:43</td>\n",
       "    </tr>\n",
       "  </tbody>\n",
       "</table>\n",
       "<p>5 rows × 23 columns</p>\n",
       "</div>"
      ],
      "text/plain": [
       "   unique_data  battery_power  blue  clock_speed  dual_sim  fc  four_g   \n",
       "0  2549.026455            842     0          2.2         0   1       0  \\\n",
       "1  2631.455231           1021     1          0.5         1   0       1   \n",
       "2  2603.736014            563     1          0.5         1   2       1   \n",
       "3  2769.680851            615     1          2.5         0   0       0   \n",
       "4  1411.996700           1821     1          1.2         0  13       1   \n",
       "\n",
       "   int_memory  m_dep  mobile_wt  ...  px_width   ram  sc_h  sc_w  talk_time   \n",
       "0           7    0.6        188  ...       756  2549     9     7         19  \\\n",
       "1          53    0.7        136  ...      1988  2631    17     3          7   \n",
       "2          41    0.9        145  ...      1716  2603    11     2          9   \n",
       "3          10    0.8        131  ...      1786  2769    16     8         11   \n",
       "4          44    0.6        141  ...      1212  1411     8     2         15   \n",
       "\n",
       "   three_g  touch_screen  wifi  price_range         RawTimeStamp  \n",
       "0        0             0     1            1  2023-05-29 12:46:43  \n",
       "1        1             1     0            2  2023-05-29 12:46:43  \n",
       "2        1             1     0            2  2023-05-29 12:46:43  \n",
       "3        1             0     0            2  2023-05-29 12:46:43  \n",
       "4        1             1     0            1  2023-05-29 12:46:43  \n",
       "\n",
       "[5 rows x 23 columns]"
      ]
     },
     "execution_count": 22,
     "metadata": {},
     "output_type": "execute_result"
    }
   ],
   "source": [
    "df.head()"
   ]
  },
  {
   "attachments": {},
   "cell_type": "markdown",
   "metadata": {},
   "source": [
    "## Checking for missing values"
   ]
  },
  {
   "cell_type": "code",
   "execution_count": 23,
   "metadata": {},
   "outputs": [],
   "source": [
    "def get_missing_values_column(df):\n",
    "    cols = [x for x in df.columns]\n",
    "    null_values = df.isnull().sum().to_list()\n",
    "\n",
    "    columns_having_null_value = [cols[i] for i in range(len(cols)) if null_values[i] > 0]\n",
    "    result_dict = {}\n",
    "    for col in columns_having_null_value:\n",
    "        result_dict[col] = df[col].dtype.name\n",
    "\n",
    "    return result_dict"
   ]
  },
  {
   "cell_type": "code",
   "execution_count": 24,
   "metadata": {},
   "outputs": [
    {
     "name": "stdout",
     "output_type": "stream",
     "text": [
      "{}\n"
     ]
    }
   ],
   "source": [
    "get_missing_values = get_missing_values_column(df)\n",
    "print(get_missing_values)"
   ]
  },
  {
   "cell_type": "code",
   "execution_count": 25,
   "metadata": {},
   "outputs": [],
   "source": [
    "def fill_nan_value(df, fill_value, drop=False):\n",
    "    cols_dtype_dict = get_missing_values_column(df)\n",
    "    if drop == False:\n",
    "        for cols in cols_dtype_dict.keys():\n",
    "            if fill_value == \"mean\":\n",
    "                mean = df[cols].mean()\n",
    "                df[cols].fillna(mean, inplace = True)\n",
    "            elif fill_value == \"median\":\n",
    "                median = df[cols].median()\n",
    "                df[cols].fillna(median, inplace = True)\n",
    "            elif fill_value == \"mode\":\n",
    "                median = df[cols].mode()[0]   \n",
    "                df[cols].fillna(median, inplace = True)\n",
    "    else:\n",
    "        df.dropna(inplace=True)\n",
    "    return df"
   ]
  },
  {
   "cell_type": "code",
   "execution_count": 26,
   "metadata": {},
   "outputs": [
    {
     "data": {
      "text/plain": [
       "unique_data      0\n",
       "battery_power    0\n",
       "blue             0\n",
       "clock_speed      0\n",
       "dual_sim         0\n",
       "fc               0\n",
       "four_g           0\n",
       "int_memory       0\n",
       "m_dep            0\n",
       "mobile_wt        0\n",
       "n_cores          0\n",
       "pc               0\n",
       "px_height        0\n",
       "px_width         0\n",
       "ram              0\n",
       "sc_h             0\n",
       "sc_w             0\n",
       "talk_time        0\n",
       "three_g          0\n",
       "touch_screen     0\n",
       "wifi             0\n",
       "price_range      0\n",
       "RawTimeStamp     0\n",
       "dtype: int64"
      ]
     },
     "execution_count": 26,
     "metadata": {},
     "output_type": "execute_result"
    }
   ],
   "source": [
    "df = fill_nan_value(df, fill_value=\"mean\", drop=False)\n",
    "df.isnull().sum()"
   ]
  },
  {
   "attachments": {},
   "cell_type": "markdown",
   "metadata": {},
   "source": [
    "# Categorical Encoding"
   ]
  },
  {
   "cell_type": "code",
   "execution_count": 27,
   "metadata": {},
   "outputs": [
    {
     "name": "stdout",
     "output_type": "stream",
     "text": [
      "unique_data -> [2549.02645503 2631.45523139 2603.73601399 ... 3057.53186275  869.50149254\n",
      " 3919.64058355] --> 2000\n",
      "battery_power -> [ 842 1021  563 ... 1139 1467  858] --> 1094\n",
      "blue -> [0 1] --> 2\n",
      "clock_speed -> [2.2 0.5 2.5 1.2 1.7 0.6 2.9 2.8 2.1 1.  0.9 1.1 2.6 1.4 1.6 2.7 1.3 2.3\n",
      " 2.  1.8 3.  1.5 1.9 2.4 0.8 0.7] --> 26\n",
      "dual_sim -> [0 1] --> 2\n",
      "fc -> [ 1  0  2 13  3  4  5  7 11 12 16  6 15  8  9 10 18 17 14 19] --> 20\n",
      "four_g -> [0 1] --> 2\n",
      "int_memory -> [ 7 53 41 10 44 22 24  9 33 17 52 46 13 23 49 19 39 47 38  8 57 51 21  5\n",
      " 60 61  6 11 50 34 20 27 42 40 64 14 63 43 16 48 12 55 36 30 45 29 58 25\n",
      "  3 54 15 37 31 32  4 18  2 56 26 35 59 28 62] --> 63\n",
      "m_dep -> [0.6 0.7 0.9 0.8 0.1 0.5 1.  0.3 0.4 0.2] --> 10\n",
      "mobile_wt -> [188 136 145 131 141 164 139 187 174  93 182 177 159 198 185 196 121 101\n",
      "  81 156 199 114 111 132 143  96 200  88 150 107 100 157 160 119  87 152\n",
      " 166 110 118 162 127 109 102 104 148 180 128 134 144 168 155 165  80 138\n",
      " 142  90 197 172 116  85 163 178 171 103  83 140 194 146 192 106 135 153\n",
      "  89  82 130 189 181  99 184 195 108 133 179 147 137 190 176  84  97 124\n",
      " 183 113  92  95 151 117  94 173 105 115  91 112 123 129 154 191 175  86\n",
      "  98 125 126 158 170 161 193 169 120 149 186 122 167] --> 121\n",
      "n_cores -> [2 3 5 6 1 8 4 7] --> 8\n",
      "pc -> [ 2  6  9 14  7 10  0 15  1 18 17 11 16  4 20 13  3 19  8  5 12] --> 21\n",
      "px_height -> [  20  905 1263 ...  528  915  483] --> 1137\n",
      "px_width -> [ 756 1988 1716 ...  743 1890 1632] --> 1109\n",
      "ram -> [2549 2631 2603 ... 2032 3057 3919] --> 1562\n",
      "sc_h -> [ 9 17 11 16  8 13 19  5 14 18  7 10 12  6 15] --> 15\n",
      "sc_w -> [ 7  3  2  8  1 10  9  0 15 13  5 11  4 12  6 17 14 16 18] --> 19\n",
      "talk_time -> [19  7  9 11 15 10 18  5 20 12 13  2  4  3 16  6 14 17  8] --> 19\n",
      "three_g -> [0 1] --> 2\n",
      "touch_screen -> [0 1] --> 2\n",
      "wifi -> [1 0] --> 2\n",
      "price_range -> [1 2 3 0] --> 4\n",
      "RawTimeStamp -> ['2023-05-29 12:46:43'] --> 1\n"
     ]
    }
   ],
   "source": [
    "for i in df.columns:\n",
    "    print(f\"{i} -> {df[i].unique()} --> {len(df[i].unique())}\")"
   ]
  },
  {
   "cell_type": "code",
   "execution_count": 30,
   "metadata": {},
   "outputs": [
    {
     "data": {
      "text/plain": [
       "unique_data              3998.489196\n",
       "battery_power                   1998\n",
       "blue                               1\n",
       "clock_speed                      3.0\n",
       "dual_sim                           1\n",
       "fc                                19\n",
       "four_g                             1\n",
       "int_memory                        64\n",
       "m_dep                            1.0\n",
       "mobile_wt                        200\n",
       "n_cores                            8\n",
       "pc                                20\n",
       "px_height                       1960\n",
       "px_width                        1998\n",
       "ram                             3998\n",
       "sc_h                              19\n",
       "sc_w                              18\n",
       "talk_time                         20\n",
       "three_g                            1\n",
       "touch_screen                       1\n",
       "wifi                               1\n",
       "price_range                        3\n",
       "RawTimeStamp     2023-05-29 12:46:43\n",
       "dtype: object"
      ]
     },
     "execution_count": 30,
     "metadata": {},
     "output_type": "execute_result"
    }
   ],
   "source": [
    "df.max()"
   ]
  },
  {
   "cell_type": "code",
   "execution_count": 32,
   "metadata": {},
   "outputs": [
    {
     "name": "stdout",
     "output_type": "stream",
     "text": [
      "<class 'pandas.core.frame.DataFrame'>\n",
      "RangeIndex: 2000 entries, 0 to 1999\n",
      "Data columns (total 23 columns):\n",
      " #   Column         Non-Null Count  Dtype  \n",
      "---  ------         --------------  -----  \n",
      " 0   unique_data    2000 non-null   float64\n",
      " 1   battery_power  2000 non-null   int64  \n",
      " 2   blue           2000 non-null   int64  \n",
      " 3   clock_speed    2000 non-null   float64\n",
      " 4   dual_sim       2000 non-null   int64  \n",
      " 5   fc             2000 non-null   int64  \n",
      " 6   four_g         2000 non-null   int64  \n",
      " 7   int_memory     2000 non-null   int64  \n",
      " 8   m_dep          2000 non-null   float64\n",
      " 9   mobile_wt      2000 non-null   int64  \n",
      " 10  n_cores        2000 non-null   int64  \n",
      " 11  pc             2000 non-null   int64  \n",
      " 12  px_height      2000 non-null   int64  \n",
      " 13  px_width       2000 non-null   int64  \n",
      " 14  ram            2000 non-null   int64  \n",
      " 15  sc_h           2000 non-null   int64  \n",
      " 16  sc_w           2000 non-null   int64  \n",
      " 17  talk_time      2000 non-null   int64  \n",
      " 18  three_g        2000 non-null   int64  \n",
      " 19  touch_screen   2000 non-null   int64  \n",
      " 20  wifi           2000 non-null   int64  \n",
      " 21  price_range    2000 non-null   int64  \n",
      " 22  RawTimeStamp   2000 non-null   object \n",
      "dtypes: float64(3), int64(19), object(1)\n",
      "memory usage: 359.5+ KB\n"
     ]
    }
   ],
   "source": [
    "df.info()"
   ]
  },
  {
   "cell_type": "code",
   "execution_count": null,
   "metadata": {},
   "outputs": [],
   "source": []
  }
 ],
 "metadata": {
  "kernelspec": {
   "display_name": "mobile_price_prediction",
   "language": "python",
   "name": "python3"
  },
  "language_info": {
   "codemirror_mode": {
    "name": "ipython",
    "version": 3
   },
   "file_extension": ".py",
   "mimetype": "text/x-python",
   "name": "python",
   "nbconvert_exporter": "python",
   "pygments_lexer": "ipython3",
   "version": "3.11.3"
  },
  "orig_nbformat": 4
 },
 "nbformat": 4,
 "nbformat_minor": 2
}
